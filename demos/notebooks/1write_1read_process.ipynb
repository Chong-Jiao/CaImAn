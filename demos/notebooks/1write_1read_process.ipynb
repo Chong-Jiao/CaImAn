{
 "cells": [
  {
   "cell_type": "code",
   "execution_count": 1,
   "metadata": {},
   "outputs": [
    {
     "name": "stdout",
     "output_type": "stream",
     "text": [
      "0 put at t=0.006\n",
      "0 get at t=0.012 sleeping 0.104 s\n",
      "1 put at t=0.101\n",
      "1 get at t=0.123 sleeping 0.136 s\n",
      "2 put at t=0.200\n",
      "2 get at t=0.268 sleeping 0.115 s\n",
      "3 put at t=0.301\n",
      "3 get at t=0.386 sleeping 0.104 s\n",
      "4 put at t=0.400\n",
      "4 get at t=0.492 sleeping 0.080 s\n",
      "5 put at t=0.500\n",
      "5 get at t=0.577 sleeping 0.123 s\n",
      "6 put at t=0.600\n",
      "7 put at t=0.701\n",
      "6 get at t=0.704 sleeping 0.083 s\n",
      "7 get at t=0.792 sleeping 0.169 s\n",
      "8 put at t=0.801\n",
      "9 put at t=0.901\n",
      "8 get at t=0.968 sleeping 0.183 s\n",
      "10 put at t=1.001\n",
      "11 put at t=1.101\n",
      "9 get at t=1.158 sleeping 0.073 s\n",
      "12 put at t=1.200\n",
      "10 get at t=1.234 sleeping 0.150 s\n",
      "13 put at t=1.300\n",
      "11 get at t=1.389 sleeping 0.100 s\n",
      "14 put at t=1.400\n",
      "12 get at t=1.493 sleeping 0.108 s\n",
      "15 put at t=1.501\n",
      "16 put at t=1.600\n",
      "13 get at t=1.605 sleeping 0.176 s\n",
      "17 put at t=1.700\n",
      "14 get at t=1.784 sleeping 0.013 s\n",
      "18 put at t=1.800\n",
      "15 get at t=1.802 sleeping 0.017 s\n",
      "16 get at t=1.822 sleeping 0.004 s\n",
      "17 get at t=1.830 sleeping 0.158 s\n",
      "19 put at t=1.901\n",
      "18 get at t=1.990 sleeping 0.148 s\n",
      "19 get at t=2.146 sleeping 0.165 s\n",
      "consumer done\n"
     ]
    }
   ],
   "source": [
    "from multiprocessing import Process, Queue\n",
    "import numpy as np\n",
    "import time\n",
    "\n",
    "np.random.seed(0)\n",
    "\n",
    "t1 = .1\n",
    "q = Queue()\n",
    "T = 20\n",
    "\n",
    "t0 = time.time()\n",
    "\n",
    "def append_to_queue(t):\n",
    "    n = 0\n",
    "    for _ in range(T):\n",
    "        print('%g put at t=%.3f' % (n, time.time()-t0))\n",
    "        q.put(n)\n",
    "        n += 1\n",
    "        time.sleep(n*t+t0-time.time())\n",
    "    q.put(\"producer done\")\n",
    "\n",
    "def read_from_queue():\n",
    "    while True:\n",
    "        f = q.get()\n",
    "        if f==\"producer done\":\n",
    "            break\n",
    "        print('%g get at t=%.3f' % (f, time.time()-t0), end=' ')\n",
    "        p = np.random.rand()*t1*1.9\n",
    "        print('sleeping %.3f s' %p)\n",
    "        time.sleep(p)\n",
    "    print(\"consumer done\")\n",
    "\n",
    "producer = Process(target=append_to_queue, args=(t1,))\n",
    "producer.start()\n",
    "consumer = Process(target=read_from_queue)\n",
    "consumer.start()\n",
    "producer.join()\n",
    "consumer.join()"
   ]
  },
  {
   "cell_type": "code",
   "execution_count": null,
   "metadata": {},
   "outputs": [],
   "source": []
  }
 ],
 "metadata": {
  "kernelspec": {
   "display_name": "Python [conda env:36]",
   "language": "python",
   "name": "conda-env-36-py"
  },
  "language_info": {
   "codemirror_mode": {
    "name": "ipython",
    "version": 3
   },
   "file_extension": ".py",
   "mimetype": "text/x-python",
   "name": "python",
   "nbconvert_exporter": "python",
   "pygments_lexer": "ipython3",
   "version": "3.6.10"
  }
 },
 "nbformat": 4,
 "nbformat_minor": 2
}
